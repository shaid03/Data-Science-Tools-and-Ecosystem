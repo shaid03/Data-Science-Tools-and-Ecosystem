{
 "cells": [
  {
   "cell_type": "markdown",
   "id": "657b162c-44b9-45f9-95fa-a93373fbf0bf",
   "metadata": {},
   "source": [
    "# Data Science Tools and Ecosystem"
   ]
  },
  {
   "cell_type": "markdown",
   "id": "8762af29-4256-4dec-8a4b-decc4bf726b5",
   "metadata": {},
   "source": [
    "In this notebook, Data Science Tools and Ecosystem are summarized."
   ]
  },
  {
   "cell_type": "markdown",
   "id": "b1c3f1e4-ecf0-467d-a5c6-fc589888967d",
   "metadata": {},
   "source": [
    "**Objectives:**\n",
    "- What are some Data Science Tools\n",
    "- What are Languages of Data Science\n",
    "- Libraries, APIs, Datasets and Models in Data Science\n",
    "- Jupyter Notebooks: Structure and Applications\n",
    "- RStudio\n",
    "- Github"
   ]
  },
  {
   "cell_type": "markdown",
   "id": "895bc95c-f652-47a1-affe-1de11601c9c0",
   "metadata": {},
   "source": [
    "Some of the popular languages that Data Scientists use are:\n",
    "1. Python\n",
    "2. R\n",
    "3. SQL\n",
    "4. Java\n",
    "5. Julia"
   ]
  },
  {
   "cell_type": "markdown",
   "id": "59def671-e09c-409b-8f16-9845566712cc",
   "metadata": {},
   "source": [
    "Some of the commonly used libraries used by Data Scientists include:\n",
    "1. Pandas\n",
    "2. Matplotlib\n",
    "3. NumPy\n",
    "4. Scikit-learn\n",
    "5. Seaborn"
   ]
  },
  {
   "cell_type": "markdown",
   "id": "8f1c6579-0f9b-4247-a4e2-9b28a40933f4",
   "metadata": {},
   "source": [
    "| Data Science Tools |\n",
    "|--------------------|\n",
    "| Apache Spark |\n",
    "| RStudio |\n",
    "| Jupyter Notebooks |\n",
    "| SAS Enterprise Miner |"
   ]
  },
  {
   "cell_type": "markdown",
   "id": "54264589-3d14-4648-8db1-fec2cba0d56e",
   "metadata": {},
   "source": [
    "### Below are a few examples of evaluating arithmetic expressions in Python"
   ]
  },
  {
   "cell_type": "code",
   "execution_count": 1,
   "id": "68253086-d115-4695-b5fe-a91fe07e18c4",
   "metadata": {
    "tags": []
   },
   "outputs": [
    {
     "data": {
      "text/plain": [
       "17"
      ]
     },
     "execution_count": 1,
     "metadata": {},
     "output_type": "execute_result"
    }
   ],
   "source": [
    "# This a simple arithmetic expression to mutiply then add integers\n",
    "(3*4)+5"
   ]
  },
  {
   "cell_type": "code",
   "execution_count": 3,
   "id": "c5763d9f-8052-4ad5-bb03-fe31117ba4f9",
   "metadata": {
    "tags": []
   },
   "outputs": [
    {
     "data": {
      "text/plain": [
       "3.3333333333333335"
      ]
     },
     "execution_count": 3,
     "metadata": {},
     "output_type": "execute_result"
    }
   ],
   "source": [
    "# This will convert 200 minutes to hours by diving by 60\n",
    "x = 200\n",
    "y = x / 60\n",
    "y"
   ]
  },
  {
   "cell_type": "markdown",
   "id": "54833376-a882-4e36-a6ae-554cdd72ed04",
   "metadata": {},
   "source": [
    "## Author\n",
    "Armili Paturi"
   ]
  },
  {
   "cell_type": "code",
   "execution_count": null,
   "id": "9476fd96-2b41-4ec9-9acb-6fab9bfb2df8",
   "metadata": {},
   "outputs": [],
   "source": []
  }
 ],
 "metadata": {
  "kernelspec": {
   "display_name": "Python",
   "language": "python",
   "name": "conda-env-python-py"
  },
  "language_info": {
   "codemirror_mode": {
    "name": "ipython",
    "version": 3
   },
   "file_extension": ".py",
   "mimetype": "text/x-python",
   "name": "python",
   "nbconvert_exporter": "python",
   "pygments_lexer": "ipython3",
   "version": "3.7.12"
  }
 },
 "nbformat": 4,
 "nbformat_minor": 5
}
